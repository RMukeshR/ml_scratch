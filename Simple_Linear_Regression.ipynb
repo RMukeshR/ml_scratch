{
 "cells": [
  {
   "cell_type": "code",
   "execution_count": 35,
   "id": "0a69983f",
   "metadata": {},
   "outputs": [],
   "source": [
    "# !pip install plotly nbformat"
   ]
  },
  {
   "cell_type": "code",
   "execution_count": 36,
   "id": "4e6af705",
   "metadata": {},
   "outputs": [],
   "source": [
    "import math\n",
    "import numpy as np\n",
    "import pandas as pd\n",
    "import plotly.express as px\n",
    "import pickle"
   ]
  },
  {
   "cell_type": "code",
   "execution_count": 37,
   "id": "66241806",
   "metadata": {},
   "outputs": [],
   "source": [
    "# Load the training and test datasets\n",
    "train_data = pd.read_csv('/home/mukesh/Infernape/ml_scratch/data/train.csv')\n",
    "test_data = pd.read_csv('/home/mukesh/Infernape/ml_scratch/data/test.csv')\n",
    "\n",
    "# Remove rows with missing values\n",
    "train_data = train_data.dropna()\n",
    "test_data = test_data.dropna()"
   ]
  },
  {
   "cell_type": "code",
   "execution_count": 38,
   "id": "84fb5a2b",
   "metadata": {},
   "outputs": [
    {
     "data": {
      "text/html": [
       "<div>\n",
       "<style scoped>\n",
       "    .dataframe tbody tr th:only-of-type {\n",
       "        vertical-align: middle;\n",
       "    }\n",
       "\n",
       "    .dataframe tbody tr th {\n",
       "        vertical-align: top;\n",
       "    }\n",
       "\n",
       "    .dataframe thead th {\n",
       "        text-align: right;\n",
       "    }\n",
       "</style>\n",
       "<table border=\"1\" class=\"dataframe\">\n",
       "  <thead>\n",
       "    <tr style=\"text-align: right;\">\n",
       "      <th></th>\n",
       "      <th>x</th>\n",
       "      <th>y</th>\n",
       "    </tr>\n",
       "  </thead>\n",
       "  <tbody>\n",
       "    <tr>\n",
       "      <th>0</th>\n",
       "      <td>24.0</td>\n",
       "      <td>21.549452</td>\n",
       "    </tr>\n",
       "    <tr>\n",
       "      <th>1</th>\n",
       "      <td>50.0</td>\n",
       "      <td>47.464463</td>\n",
       "    </tr>\n",
       "    <tr>\n",
       "      <th>2</th>\n",
       "      <td>15.0</td>\n",
       "      <td>17.218656</td>\n",
       "    </tr>\n",
       "    <tr>\n",
       "      <th>3</th>\n",
       "      <td>38.0</td>\n",
       "      <td>36.586398</td>\n",
       "    </tr>\n",
       "    <tr>\n",
       "      <th>4</th>\n",
       "      <td>87.0</td>\n",
       "      <td>87.288984</td>\n",
       "    </tr>\n",
       "  </tbody>\n",
       "</table>\n",
       "</div>"
      ],
      "text/plain": [
       "      x          y\n",
       "0  24.0  21.549452\n",
       "1  50.0  47.464463\n",
       "2  15.0  17.218656\n",
       "3  38.0  36.586398\n",
       "4  87.0  87.288984"
      ]
     },
     "execution_count": 38,
     "metadata": {},
     "output_type": "execute_result"
    }
   ],
   "source": [
    "train_data.head()\n"
   ]
  },
  {
   "cell_type": "code",
   "execution_count": 39,
   "id": "37616d4b",
   "metadata": {},
   "outputs": [],
   "source": [
    "X = train_data[['x']]  # features must be 2D\n",
    "y = train_data['y']  "
   ]
  },
  {
   "cell_type": "code",
   "execution_count": 41,
   "id": "88fed688",
   "metadata": {},
   "outputs": [
    {
     "data": {
      "text/html": [
       "<div>\n",
       "<style scoped>\n",
       "    .dataframe tbody tr th:only-of-type {\n",
       "        vertical-align: middle;\n",
       "    }\n",
       "\n",
       "    .dataframe tbody tr th {\n",
       "        vertical-align: top;\n",
       "    }\n",
       "\n",
       "    .dataframe thead th {\n",
       "        text-align: right;\n",
       "    }\n",
       "</style>\n",
       "<table border=\"1\" class=\"dataframe\">\n",
       "  <thead>\n",
       "    <tr style=\"text-align: right;\">\n",
       "      <th></th>\n",
       "      <th>x</th>\n",
       "    </tr>\n",
       "  </thead>\n",
       "  <tbody>\n",
       "    <tr>\n",
       "      <th>0</th>\n",
       "      <td>24.0</td>\n",
       "    </tr>\n",
       "    <tr>\n",
       "      <th>1</th>\n",
       "      <td>50.0</td>\n",
       "    </tr>\n",
       "    <tr>\n",
       "      <th>2</th>\n",
       "      <td>15.0</td>\n",
       "    </tr>\n",
       "    <tr>\n",
       "      <th>3</th>\n",
       "      <td>38.0</td>\n",
       "    </tr>\n",
       "    <tr>\n",
       "      <th>4</th>\n",
       "      <td>87.0</td>\n",
       "    </tr>\n",
       "    <tr>\n",
       "      <th>...</th>\n",
       "      <td>...</td>\n",
       "    </tr>\n",
       "    <tr>\n",
       "      <th>695</th>\n",
       "      <td>58.0</td>\n",
       "    </tr>\n",
       "    <tr>\n",
       "      <th>696</th>\n",
       "      <td>93.0</td>\n",
       "    </tr>\n",
       "    <tr>\n",
       "      <th>697</th>\n",
       "      <td>82.0</td>\n",
       "    </tr>\n",
       "    <tr>\n",
       "      <th>698</th>\n",
       "      <td>66.0</td>\n",
       "    </tr>\n",
       "    <tr>\n",
       "      <th>699</th>\n",
       "      <td>97.0</td>\n",
       "    </tr>\n",
       "  </tbody>\n",
       "</table>\n",
       "<p>699 rows × 1 columns</p>\n",
       "</div>"
      ],
      "text/plain": [
       "        x\n",
       "0    24.0\n",
       "1    50.0\n",
       "2    15.0\n",
       "3    38.0\n",
       "4    87.0\n",
       "..    ...\n",
       "695  58.0\n",
       "696  93.0\n",
       "697  82.0\n",
       "698  66.0\n",
       "699  97.0\n",
       "\n",
       "[699 rows x 1 columns]"
      ]
     },
     "execution_count": 41,
     "metadata": {},
     "output_type": "execute_result"
    }
   ],
   "source": [
    "X"
   ]
  },
  {
   "cell_type": "code",
   "execution_count": 42,
   "id": "6621755d",
   "metadata": {},
   "outputs": [
    {
     "data": {
      "text/plain": [
       "0      21.549452\n",
       "1      47.464463\n",
       "2      17.218656\n",
       "3      36.586398\n",
       "4      87.288984\n",
       "         ...    \n",
       "695    58.595006\n",
       "696    94.625094\n",
       "697    88.603770\n",
       "698    63.648685\n",
       "699    94.975266\n",
       "Name: y, Length: 699, dtype: float64"
      ]
     },
     "execution_count": 42,
     "metadata": {},
     "output_type": "execute_result"
    }
   ],
   "source": [
    "y"
   ]
  },
  {
   "cell_type": "code",
   "execution_count": 46,
   "id": "fe5faa34",
   "metadata": {},
   "outputs": [
    {
     "data": {
      "text/plain": [
       "[<matplotlib.lines.Line2D at 0x79aba3f6f560>]"
      ]
     },
     "execution_count": 46,
     "metadata": {},
     "output_type": "execute_result"
    },
    {
     "data": {
      "image/png": "[encoded data removed]",
      "text/plain": [
       "<Figure size 640x480 with 1 Axes>"
      ]
     },
     "metadata": {},
     "output_type": "display_data"
    }
   ],
   "source": [
    "import matplotlib.pyplot as plt\n",
    "\n",
    "\n",
    "plt.plot(X,y, \".\")"
   ]
  },
  {
   "cell_type": "code",
   "execution_count": null,
   "id": "edc488a6",
   "metadata": {},
   "outputs": [],
   "source": []
  },
  {
   "cell_type": "code",
   "execution_count": null,
   "id": "45ae95af",
   "metadata": {},
   "outputs": [],
   "source": []
  },
  {
   "cell_type": "code",
   "execution_count": 43,
   "id": "f96b4317",
   "metadata": {},
   "outputs": [
    {
     "name": "stdout",
     "output_type": "stream",
     "text": [
      "Intercept: -0.10726546430097272\n",
      "Slope (coefficient): 1.000656381856304\n",
      "\n",
      "Predictions: [23.9084877  49.92555363 14.90258026 37.91767705 86.94983976 35.91636428\n",
      " 11.90061112 80.94590147 24.90914408  4.89601644 15.90323665 15.90323665\n",
      " 23.9084877  38.91833343 53.92817916 59.93211745 25.90980046 72.94065041\n",
      " 28.91176961 30.91308237 67.9373685  86.94983976 57.93080468 53.92817916\n",
      " 83.94787061 57.93080468 48.92489725 19.90586217 89.9518089  47.92424086\n",
      "  3.89536006 24.90914408 41.92030257 -0.10726546 59.93211745 92.95377805\n",
      " 38.91833343  6.89732921 20.90651855 67.9373685  83.94787061 -0.10726546\n",
      " 57.93080468 18.90520579 35.91636428 18.90520579 58.93146107 50.92621001\n",
      " 18.90520579 32.91439514 84.94852699 43.92161534  4.89601644 58.93146107\n",
      " 13.90192388  8.89864197 74.94196317 68.93802488  9.89929835 16.90389303\n",
      " 57.93080468 73.94130679 20.90651855 50.92621001 18.90520579 49.92555363\n",
      " 23.9084877  -0.10726546 11.90061112 74.94196317 20.90651855 63.93474297\n",
      "  4.89601644 57.93080468 31.91373876 40.91964619  6.89732921  3.89536006\n",
      "  4.89601644 48.92489725 89.9518089   2.89470368 10.89995474 31.91373876\n",
      " 82.94721423 24.90914408 82.94721423 25.90980046 75.94261956 94.95509081\n",
      " 52.92752277 76.94327594 41.92030257 24.90914408 53.92817916 54.92883554\n",
      " -0.10726546 72.94065041 34.9157079  85.94918338 89.9518089  12.9012675\n",
      " 45.9229281  45.9229281  31.91373876  7.89798559 70.93933765 27.91111323\n",
      " 23.9084877  55.92949192 48.92489725 78.9445887  89.9518089  88.95115252\n",
      " 40.91964619 26.91045685 57.93080468 25.90980046 30.91308237 69.93868127\n",
      " 70.93933765 38.91833343  6.89732921 47.92424086 55.92949192 44.92227172\n",
      " 40.91964619  2.89470368 36.91702066 23.9084877  67.9373685  46.92358448\n",
      " 26.91045685 67.9373685  73.94130679 94.95509081 78.9445887  20.90651855\n",
      " 94.95509081 53.92817916 55.92949192 79.94524508 25.90980046 24.90914408\n",
      "  7.89798559 94.95509081 93.95443443 53.92817916  6.89732921 98.95771634\n",
      " 35.91636428 47.92424086 64.93539936 41.92030257 92.95377805 85.94918338\n",
      " 25.90980046 50.92621001 99.95837272 93.95443443  5.89667283 23.9084877\n",
      " 74.94196317  6.89732921 52.92752277 72.94065041 15.90323665 79.94524508\n",
      " 76.94327594 88.95115252 79.94524508 54.92883554 18.90520579 55.92949192\n",
      " 46.92358448 55.92949192  1.8940473  81.94655785 56.9301483  43.92161534\n",
      " 25.90980046 51.92686639 40.91964619 43.92161534  2.89470368 30.91308237\n",
      " 96.95640358 20.90651855 16.90389303  6.89732921 60.93277383  9.89929835\n",
      " 51.92686639  9.89929835 64.93539936 70.93933765  3.89536006 23.9084877\n",
      " 25.90980046 50.92621001 41.92030257 61.93343021 73.94130679 76.94327594\n",
      "  2.89470368 49.92555363 23.9084877  36.91702066 57.93080468 51.92686639\n",
      " 26.91045685 13.90192388 99.95837272 71.93999403  4.89601644 70.93933765\n",
      " 53.92817916 83.94787061 41.92030257 53.92817916 73.94130679 53.92817916\n",
      " 52.92752277 77.94393232 96.95640358 48.92489725 70.93933765 47.92424086\n",
      " 50.92621001 88.95115252 98.95771634 92.95377805 48.92489725 17.90454941\n",
      " 64.93539936 82.94721423 99.95837272 40.91964619 51.92686639 28.91176961\n",
      " 96.95640358  6.89732921 50.92621001 57.93080468 49.92555363 66.93671212\n",
      " 88.95115252 75.94261956 34.9157079  98.95771634 30.91308237 51.92686639\n",
      " 10.89995474 65.93605574 49.92555363 38.91833343 59.93211745 34.9157079\n",
      " 52.92752277 13.90192388 48.92489725 15.90323665 75.94261956 12.9012675\n",
      " 50.92621001 69.93868127 97.95705996 85.94918338 99.95837272 45.9229281\n",
      " 50.92621001 49.92555363 90.95246528 47.92424086 80.94590147 37.91767705\n",
      " 39.91898981 78.9445887  95.95574719 59.93211745 69.93868127 43.92161534\n",
      " 10.89995474  5.89667283  4.89601644 71.93999403 54.92883554 94.95509081\n",
      " 40.91964619 24.90914408  0.89339092 54.92883554  3.89536006 47.92424086\n",
      " 54.92883554 74.94196317 67.9373685  99.95837272 24.90914408 74.94196317\n",
      " 33.91505152 37.91767705 91.95312167 20.90651855 87.95049614 74.94196317\n",
      " 75.94261956 43.92161534  9.89929835 20.90651855 15.90323665 31.91373876\n",
      " 12.9012675  25.90980046 69.93868127 76.94327594 76.94327594 87.95049614\n",
      " 34.9157079  23.9084877  16.90389303 90.95246528 31.91373876 35.91636428\n",
      " 88.95115252 68.93802488 29.91242599  5.89667283 21.90717494 66.93671212\n",
      "  8.89864197 73.94130679 49.92555363 84.94852699  2.89470368 -0.10726546\n",
      " 58.93146107 61.93343021 16.90389303 89.9518089  22.90783132 18.90520579\n",
      " 92.95377805 13.90192388 57.93080468 86.94983976 36.91702066 19.90586217\n",
      " 34.9157079  62.93408659 55.92949192 61.93343021 97.95705996 89.9518089\n",
      " 50.92621001 92.95377805 21.90717494 37.91767705 12.9012675  97.95705996\n",
      " 98.95771634 30.91308237 93.95443443 72.94065041 36.91702066 22.90783132\n",
      " 10.89995474 87.95049614 46.92358448 78.9445887  90.95246528 70.93933765\n",
      "  9.89929835 38.91833343 91.95312167 98.95771634 27.91111323 31.91373876\n",
      " 31.91373876 74.94196317 98.95771634 26.91045685 63.93474297 97.95705996\n",
      " 37.91767705 45.9229281  12.9012675  95.95574719  8.89864197 33.91505152\n",
      " 48.92489725  0.89339092 49.92555363 93.95443443 26.91045685 19.90586217\n",
      " 11.90061112 44.92227172 90.95246528 60.93277383  9.89929835 46.92358448\n",
      " 32.91439514 83.94787061 23.9084877  47.92424086 47.92424086  8.89864197\n",
      " 92.95377805 98.95771634  7.89798559 19.90586217 37.91767705 77.94393232\n",
      " 80.94590147 41.92030257 94.95509081 77.94393232 43.92161534 67.9373685\n",
      " 86.94983976 57.93080468 51.92686639 25.90980046 74.94196317 47.92424086\n",
      " 70.93933765 76.94327594 33.91505152 23.9084877  69.93868127 28.91176961\n",
      " 75.94261956 97.95705996 27.91111323 86.94983976  8.89864197 86.94983976\n",
      " 32.91439514 63.93474297 16.90389303 48.92489725 94.95509081 74.94196317\n",
      " 88.95115252 80.94590147 24.90914408 46.92358448 49.92555363  4.89601644\n",
      " 67.9373685  83.94787061  7.89798559 40.91964619 25.90980046 88.95115252\n",
      " 77.94393232 33.91505152 91.95312167 26.91045685 11.90061112  1.8940473\n",
      " 21.90717494 -0.10726546 25.90980046 49.92555363 83.94787061 69.93868127\n",
      " 65.93605574 41.92030257 18.90520579 93.95443443 70.93933765 18.90520579\n",
      " 15.90323665 48.92489725 28.91176961 28.91176961 85.94918338 49.92555363\n",
      " 85.94918338 29.91242599 22.90783132 19.90586217 15.90323665 56.9301483\n",
      "  7.89798559  7.89798559 61.93343021 54.92883554 29.91242599 85.94918338\n",
      " 61.93343021 50.92621001 60.93277383 85.94918338 60.93277383 20.90651855\n",
      " 80.94590147 96.95640358  4.89601644 60.93277383 46.92358448 97.95705996\n",
      " 29.91242599 62.93408659 -0.10726546 99.95837272 17.90454941 29.91242599\n",
      " 97.95705996 15.90323665 21.90717494 54.92883554 42.92095896 74.94196317\n",
      " 90.95246528 45.9229281  84.94852699 54.92883554 35.91636428 48.92489725\n",
      " 93.95443443 42.92095896 21.90717494 36.91702066 23.9084877  94.95509081\n",
      " 60.93277383 74.94196317 67.9373685  57.93080468  4.89601644 52.92752277\n",
      " 79.94524508 82.94721423 24.90914408 33.91505152 25.90980046 89.9518089\n",
      " 59.93211745 48.92489725 18.90520579 91.95312167 28.91176961  7.89798559\n",
      " 56.9301483  28.91176961 18.90520579 80.94590147 49.92555363 14.90258026\n",
      " 69.93868127 38.91833343 42.92095896 20.90651855 97.95705996 85.94918338\n",
      " 15.90323665 24.90914408 30.91308237 92.95377805 66.93671212 48.92489725\n",
      " 24.90914408 87.95049614 53.92817916 20.90651855  7.89798559 31.91373876\n",
      " 34.9157079  66.93671212 89.9518089  58.93146107 14.90258026 66.93671212\n",
      " 41.92030257 43.92161534 76.94327594 67.9373685  35.91636428 10.89995474\n",
      "  9.89929835 64.93539936 97.95705996 97.95705996 48.92489725 30.91308237\n",
      " 55.92949192 69.93868127 90.95246528 24.90914408 53.92817916 38.91833343\n",
      " 90.95246528  2.89470368 21.90717494  1.8940473   1.8940473  64.93539936\n",
      " 70.93933765 41.92030257 75.94261956 42.92095896  7.89798559 85.94918338\n",
      " 86.94983976  2.89470368 57.93080468 61.93343021 88.95115252 94.95509081\n",
      " 27.91111323 -0.10726546  0.89339092 48.92489725 20.90651855 45.9229281\n",
      " 10.89995474 88.95115252 36.91702066 28.91176961 43.92161534 95.95574719\n",
      " 15.90323665 73.94130679 34.9157079  41.92030257 15.90323665 55.92949192\n",
      " 17.90454941 99.95837272 53.92817916 91.95312167 62.93408659 80.94590147\n",
      " 72.94065041 47.92424086  0.89339092 84.94852699 13.90192388 24.90914408\n",
      " 44.92227172 97.95705996 96.95640358 57.93080468 92.95377805 87.95049614\n",
      " 88.95115252 46.92358448  5.89667283 33.91505152 29.91242599 15.90323665\n",
      " 85.94918338 39.91898981 51.92686639 14.90258026  3.89536006 94.95509081\n",
      " 98.95771634 34.9157079  57.93080468  9.89929835 15.90323665 52.92752277\n",
      " 57.93080468 41.92030257 23.9084877  83.94787061 63.93474297 11.90061112\n",
      " 60.93277383 74.94196317 14.90258026 99.95837272 42.92095896 12.9012675\n",
      " 47.92424086 44.92227172 51.92686639 33.91505152 29.91242599 64.93539936\n",
      " 99.95837272 66.93671212 98.95771634 44.92227172 86.94983976 72.94065041\n",
      "  8.89864197 80.94590147 71.93999403 80.94590147 57.93080468 92.95377805\n",
      " 81.94655785 65.93605574 96.95640358]\n"
     ]
    }
   ],
   "source": [
    "from sklearn.linear_model import LinearRegression, Ridge, Lasso\n",
    "\n",
    "\n",
    "model = LinearRegression()\n",
    "model.fit(X, y)\n",
    "\n",
    "# Print coefficients\n",
    "print(\"Intercept:\", model.intercept_)\n",
    "print(\"Slope (coefficient):\", model.coef_[0])\n",
    "\n",
    "# Predict using the model\n",
    "y_pred = model.predict(X)\n",
    "print(\"\\nPredictions:\", y_pred)"
   ]
  },
  {
   "cell_type": "code",
   "execution_count": 47,
   "id": "4d7da17c",
   "metadata": {},
   "outputs": [
    {
     "name": "stdout",
     "output_type": "stream",
     "text": [
      "Model Evaluation:\n",
      "R² Score: 0.9907015319025518\n",
      "Mean Absolute Error (MAE): 2.2271519536455573\n",
      "Mean Squared Error (MSE): 7.867752733487687\n",
      "Root Mean Squared Error (RMSE): 2.8049514672250013\n"
     ]
    }
   ],
   "source": [
    "from sklearn.metrics import r2_score, mean_absolute_error, mean_squared_error\n",
    "import numpy as np\n",
    "\n",
    "# Evaluate the model\n",
    "r2 = r2_score(y, y_pred)\n",
    "mae = mean_absolute_error(y, y_pred)\n",
    "mse = mean_squared_error(y, y_pred)\n",
    "rmse = np.sqrt(mse)\n",
    "\n",
    "# Print metrics\n",
    "print(\"Model Evaluation:\")\n",
    "print(\"R² Score:\", r2)\n",
    "print(\"Mean Absolute Error (MAE):\", mae)\n",
    "print(\"Mean Squared Error (MSE):\", mse)\n",
    "print(\"Root Mean Squared Error (RMSE):\", rmse)\n"
   ]
  },
  {
   "cell_type": "code",
   "execution_count": 50,
   "id": "62d986e1",
   "metadata": {},
   "outputs": [
    {
     "data": {
      "image/png": "[encoded data removed]",
      "text/plain": [
       "<Figure size 640x480 with 1 Axes>"
      ]
     },
     "metadata": {},
     "output_type": "display_data"
    }
   ],
   "source": [
    "import matplotlib.pyplot as plt\n",
    "\n",
    "# Scatter plot of actual data\n",
    "plt.scatter(X, y, color='blue', label='Actual data')\n",
    "\n",
    "# Plot regression line\n",
    "plt.plot(X, y_pred, color='red', linewidth=2, label='Regression line')\n",
    "\n",
    "# Labels and title\n",
    "plt.xlabel('x')\n",
    "plt.ylabel('y')\n",
    "plt.title('Linear Regression Fit')\n",
    "plt.legend()\n",
    "\n",
    "# Show plot\n",
    "plt.grid(True)\n",
    "plt.show()\n"
   ]
  },
  {
   "cell_type": "code",
   "execution_count": null,
   "id": "35221672",
   "metadata": {},
   "outputs": [],
   "source": []
  }
 ],
 "metadata": {
  "kernelspec": {
   "display_name": "myenv",
   "language": "python",
   "name": "python3"
  },
  "language_info": {
   "codemirror_mode": {
    "name": "ipython",
    "version": 3
   },
   "file_extension": ".py",
   "mimetype": "text/x-python",
   "name": "python",
   "nbconvert_exporter": "python",
   "pygments_lexer": "ipython3",
   "version": "3.12.3"
  }
 },
 "nbformat": 4,
 "nbformat_minor": 5
}
